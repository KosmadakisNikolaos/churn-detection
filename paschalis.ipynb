{
 "cells": [
  {
   "cell_type": "markdown",
   "metadata": {},
   "source": [
    "**Merging transactions**"
   ]
  },
  {
   "cell_type": "code",
   "execution_count": null,
   "metadata": {},
   "outputs": [],
   "source": [
    "import pandas as pd\n",
    "import numpy as np\n",
    "import seaborn as sns\n",
    "import matplotlib.pyplot as plt\n",
    "'''Only to be used if \"all_tranformations.csv\" does not exist.'''\n",
    "# df = pd.read_csv(\"data/transactions_1.csv\")\n",
    "# df2 = pd.read_csv(\"data/transactions_2.csv\")\n",
    "# df3 = pd.read_csv(\"data/transactions_3.csv\")\n",
    "\n",
    "# #combining datasets in one CSV\n",
    "# transactions=pd.concat([df,df2,df3], ignore_index = True)\n",
    "\n",
    "# #saving to directory\n",
    "# transactions.to_csv(r'data/all_transactions.csv', index = False)"
   ]
  },
  {
   "cell_type": "markdown",
   "metadata": {},
   "source": [
    "**Merging datagrames**"
   ]
  },
  {
   "cell_type": "code",
   "execution_count": null,
   "metadata": {},
   "outputs": [],
   "source": [
    "df = pd.read_csv(\"data/all_transactions.csv\")\n",
    "df2 = pd.read_csv(\"data/users.csv\")\n",
    "df3 = pd.read_csv(\"data/devices.csv\")\n",
    "df4 = pd.merge(df2, df3[df3.brand != \"Unknown\"], on='user_id')\n",
    "data = pd.merge(df4, df, on='user_id')\n",
    "# df = pd.merge(df, df3, on='user_id')\n",
    "# data = pd.merge(df, df2, on='user_id')"
   ]
  },
  {
   "cell_type": "markdown",
   "metadata": {},
   "source": [
    "**Renaming columns**"
   ]
  },
  {
   "cell_type": "code",
   "execution_count": null,
   "metadata": {},
   "outputs": [],
   "source": [
    "data = data.rename(columns={\"created_date_x\": \"user_created_date\", \"created_date_y\": \"transaction_created_date\", \"country\": \"user_country\"})"
   ]
  },
  {
   "cell_type": "markdown",
   "metadata": {},
   "source": [
    "**Removing unnecessary columns**"
   ]
  },
  {
   "cell_type": "code",
   "execution_count": null,
   "metadata": {},
   "outputs": [],
   "source": [
    "data = data.drop(['city', 'attributes_notifications_marketing_push', 'attributes_notifications_marketing_email', 'num_successful_referrals', 'ea_merchant_mcc', 'ea_merchant_city', 'ea_merchant_country', 'num_referrals'], axis=1)"
   ]
  },
  {
   "cell_type": "markdown",
   "metadata": {},
   "source": [
    "**Column Tranformations**"
   ]
  },
  {
   "cell_type": "code",
   "execution_count": null,
   "metadata": {},
   "outputs": [],
   "source": [
    "plan_ = {\"STANDARD\": 0,\"SILVER\": 1,\"GOLD\": 1}\n",
    "data['plan'] = data['plan'].map(plan_)"
   ]
  },
  {
   "cell_type": "code",
   "execution_count": null,
   "metadata": {},
   "outputs": [],
   "source": [
    "currency_ = {'AED' : 0, 'SEK' : 0, 'AUD' : 0, 'GBP' : 0, 'ETH' : 1, 'RUB' : 0, 'CHF' : 0, 'HRK' : 0, 'LTC' : 1, 'MAD' : 0, 'BTC' : 1, 'NZD' : 0, 'JPY' : 0, 'ILS' : 0, 'QAR' : 0, 'MXN' : 0, 'DKK' : 0, 'SGD' : 0, 'ZAR' : 0, 'BGN' : 0, 'USD' : 0, 'INR' : 0, 'THB' : 0, 'RON' : 0, 'HUF' : 0, 'TRY' : 0, 'XRP' : 1, 'PLN' : 0, 'EUR' : 0, 'BCH' : 1, 'CZK' : 0, 'CAD' : 0, 'NOK' : 0, 'HKD' : 0, 'SAR' : 0}\n",
    "data['transactions_currency'] = data['transactions_currency'].map(currency_)"
   ]
  },
  {
   "cell_type": "code",
   "execution_count": null,
   "metadata": {
    "pycharm": {
     "name": "#%%\n"
    }
   },
   "outputs": [],
   "source": [
    "currency_ = {'FAILED': 0, 'DECLINED': 0, 'COMPLETED': 1, 'REVERTED': 2, 'PENDING': 0, 'CANCELLED': 0}\n",
    "data['transactions_state'] = data['transactions_state'].map(currency_)"
   ]
  },
  {
   "cell_type": "code",
   "execution_count": null,
   "metadata": {},
   "outputs": [],
   "source": [
    "brands = {\"Android\": 0,\"Apple\": 1}\n",
    "data['brand'] = data['brand'].map(brands)"
   ]
  },
  {
   "cell_type": "code",
   "execution_count": null,
   "metadata": {},
   "outputs": [],
   "source": [
    "# SWEU --> south western eu\n",
    "# EEU --> Eastern Europe\n",
    "# CEU --> Central Europe\n",
    "# SWEU --> South Western Europe\n",
    "# WEU --> Western Europe\n",
    "# NEU ---> Norhern Europe\n",
    "# AS --> ASIA\n",
    "# NA --> northamerica\n",
    "# AF --> Africa\n",
    "# OC --> Oceania\n",
    "\n",
    "#(oceania,namerica,africa,SEU)\n",
    "#(SWEU,CEU,NEU,EEU)\n",
    "#(Western Europe)\n",
    "\n",
    "\n",
    "continents_ = {'ES':'SWEU', 'LT':'EEU', 'IE':'WEU', 'GB':'WEU', 'MT':'SWEU', 'FR':'SWEU', 'RO':'SWEU', 'PL':'EEU', 'AT':'CEU', 'IT':'SWEU', 'SI':'CEU', 'CZ':'CEU', 'BE':'WEU', 'BG':'SWEU', 'GI':'SWEU', 'CH':'AS', 'GG':'SWEU', 'CY':'SWEU', 'DE':'CEU', 'SK':'CEU', 'GR':'SEU', 'DK':'NEU', 'PT':'SWEU', 'LU':'NEU', 'HR':'SWEU', 'NL':'NEU', 'SE':'NEU', 'LV':'EEU', 'IM':'NEU', 'FI':'NEU', 'EE':'EEU', 'JE':'SWEU', 'HU':'CEU', 'NO':'NEU', 'RE':'AF', 'IS':'NEU', 'GP':'NA', 'AU':'OC', 'LI':'EEU', 'MQ':'NA'}\n",
    "data['user_country'] = data['user_country'].map(continents_)\n",
    "\n",
    "\n",
    "#Appending new Continents\n",
    "new_continents_ = {'OC':'rest_of_the_world','NA':'rest_of_the_world','AF':'rest_of_the_world','SEU':'rest_of_the_world','AS':'rest_of_the_world',\n",
    "               'SWEU':'Central_Europe','CEU':'Central_Europe','NEU':'Central_Europe','EEU':'Central_Europe',\n",
    "                 'WEU':'Western_Europe'}\n",
    "\n",
    "data['user_country'] = data['user_country'].map(new_continents_)\n",
    "\n",
    "\n",
    "# Renaming Column\n",
    "data = data.rename(columns={\"user_country\": \"continent\"})"
   ]
  },
  {
   "cell_type": "code",
   "execution_count": null,
   "metadata": {},
   "outputs": [],
   "source": [
    "data = data[(data.transactions_state == 1) | (data.transactions_state == 2)]"
   ]
  },
  {
   "cell_type": "code",
   "execution_count": null,
   "metadata": {},
   "outputs": [],
   "source": [
    "data['continent'].value_counts()"
   ]
  },
  {
   "cell_type": "code",
   "execution_count": null,
   "metadata": {},
   "outputs": [],
   "source": [
    "data['continent'].isna().sum()"
   ]
  },
  {
   "cell_type": "markdown",
   "metadata": {},
   "source": [
    "**Plots**"
   ]
  },
  {
   "cell_type": "code",
   "execution_count": null,
   "metadata": {},
   "outputs": [],
   "source": [
    "import seaborn as sns\n",
    "import matplotlib.pyplot as plt\n",
    "\n",
    "%matplotlib inline"
   ]
  },
  {
   "cell_type": "code",
   "execution_count": null,
   "metadata": {},
   "outputs": [],
   "source": [
    "carrier_count = df2['country'].value_counts()\n",
    "carrier_count.plot(figsize=(20,15))\n",
    "sns.set(style=\"darkgrid\")\n",
    "sns.barplot(carrier_count.index, carrier_count.values, alpha=0.9)\n",
    "\n",
    "plt.title('Users Per Country',fontsize=19)\n",
    "plt.ylabel('Number of Users', fontsize=19)\n",
    "plt.xlabel('Country', fontsize=14)\n",
    "plt.xticks(rotation=60,fontsize=14)\n",
    "\n",
    "plt.show()"
   ]
  },
  {
   "cell_type": "code",
   "execution_count": null,
   "metadata": {},
   "outputs": [],
   "source": [
    "carrier_count = data['continent'].value_counts()\n",
    "carrier_count.plot(figsize=(10,10))\n",
    "sns.set(style=\"darkgrid\")\n",
    "sns.barplot(carrier_count.index, carrier_count.values, alpha=0.9)\n",
    "\n",
    "plt.title('Transactions Per Continent',fontsize=19)\n",
    "plt.ylabel('Number of transactions', fontsize=19)\n",
    "plt.xticks(fontsize=14)\n",
    "\n",
    "plt.show()"
   ]
  },
  {
   "cell_type": "markdown",
   "metadata": {},
   "source": [
    "**Aggregating**"
   ]
  },
  {
   "cell_type": "code",
   "execution_count": null,
   "metadata": {},
   "outputs": [],
   "source": [
    "def age_bands(year):\n",
    "    year = 2020 - year\n",
    "    if year < 25:\n",
    "        return 0\n",
    "    elif year < 35:\n",
    "        return 1\n",
    "    elif year < 45:\n",
    "        return 2\n",
    "    elif year < 55:\n",
    "        return 3\n",
    "    elif year < 65:\n",
    "        return 4\n",
    "    return 5"
   ]
  },
  {
   "cell_type": "code",
   "execution_count": null,
   "metadata": {},
   "outputs": [],
   "source": [
    "# Demographics\n",
    "users_agg_df = data.groupby(['user_id']).agg({'birth_year': 'first', 'continent': 'first', 'user_created_date': 'first', 'user_settings_crypto_unlocked': 'first', 'plan': 'first', 'num_contacts': 'first', 'brand': 'first'}).reset_index()\n",
    "users_agg_df[\"birth_year\"] = users_agg_df[\"birth_year\"].apply(lambda x: age_bands(x))\n",
    "users_agg_df"
   ]
  },
  {
   "cell_type": "code",
   "execution_count": null,
   "metadata": {},
   "outputs": [],
   "source": [
    "# First and last transaction of each user\n",
    "first_transactions_date_agg = data.groupby([\"user_id\"]).agg({'transaction_created_date': 'min'}).reset_index().rename(columns={\"transaction_created_date\": \"first_transaction_date\"})\n",
    "last_transactions_date_agg = data.groupby([\"user_id\"]).agg({'transaction_created_date': 'max'}).reset_index().rename(columns={\"transaction_created_date\": \"last_transaction_date\"})\n",
    "transactions_date_agg = pd.merge(first_transactions_date_agg, last_transactions_date_agg, on=\"user_id\")\n",
    "transactions_date_agg"
   ]
  },
  {
   "cell_type": "code",
   "execution_count": null,
   "metadata": {},
   "outputs": [],
   "source": [
    "# Total transactions\n",
    "user_transactions = data.groupby([\"user_id\"]).agg({'transaction_created_date': 'count'}).reset_index().rename(columns={\"transaction_created_date\": \"n_transactions\"})\n",
    "user_transactions"
   ]
  },
  {
   "cell_type": "code",
   "execution_count": null,
   "metadata": {},
   "outputs": [],
   "source": [
    "# Total amounts of each user\n",
    "transactions_total_agg = data[data.transactions_state == 1].groupby([\"user_id\"]).agg({'amount_usd': 'sum'}).reset_index()\n",
    "transactions_total_agg = transactions_total_agg.rename(columns={\"amount_usd\": \"amount_total\"})\n",
    "transactions_total_rev = data[data.transactions_state == 2].groupby([\"user_id\"]).agg({'amount_usd': 'sum'}).reset_index().rename(columns={'amount_usd': 'amount_reverted'})\n",
    "\n",
    "\n",
    "transactions_total_agg = pd.merge(transactions_total_agg, transactions_total_rev, on=\"user_id\", how=\"left\").fillna(0.0)#converting NaN to 0\n",
    "\n",
    "transactions_total_agg[\"total_amount\"] = transactions_total_agg[\"amount_total\"] - transactions_total_agg[\"amount_reverted\"]\n",
    "transactions_total_agg = transactions_total_agg[[\"user_id\", \"total_amount\"]]\n",
    "transactions_total_agg"
   ]
  },
  {
   "cell_type": "code",
   "execution_count": null,
   "metadata": {},
   "outputs": [],
   "source": [
    "# Final df for classification\n",
    "classification_df = pd.merge(users_agg_df, transactions_date_agg, on='user_id')\n",
    "classification_df = pd.merge(classification_df, transactions_total_agg, on='user_id')\n",
    "classification_df = pd.merge(classification_df, user_transactions, on='user_id')\n",
    "dum = pd.get_dummies(classification_df.continent)\n",
    "classification_df = pd.concat([classification_df, dum], axis=1)\n",
    "classification_df['label'] = classification_df['plan']\n",
    "classification_df = classification_df.drop(columns=['continent', 'plan']).rename(columns={'birth_year': 'age_band'})\n",
    "classification_df"
   ]
  },
  {
   "cell_type": "markdown",
   "metadata": {},
   "source": [
    "**Train/test splitting**"
   ]
  },
  {
   "cell_type": "code",
   "execution_count": null,
   "metadata": {},
   "outputs": [],
   "source": [
    "from sklearn.model_selection import train_test_split"
   ]
  },
  {
   "cell_type": "code",
   "execution_count": null,
   "metadata": {},
   "outputs": [],
   "source": [
    "x = classification_df[['age_band', 'user_settings_crypto_unlocked', 'num_contacts', 'brand', 'total_amount', 'n_transactions', 'Central_Europe', 'Central_Europe', 'rest_of_the_world']]\n",
    "y = classification_df['label']"
   ]
  },
  {
   "cell_type": "code",
   "execution_count": null,
   "metadata": {},
   "outputs": [],
   "source": [
    "x_train, x_test, y_train, y_test = train_test_split(x, y, test_size=0.2, random_state=10)"
   ]
  },
  {
   "cell_type": "markdown",
   "metadata": {},
   "source": [
    "**Scaling**"
   ]
  },
  {
   "cell_type": "code",
   "execution_count": null,
   "metadata": {},
   "outputs": [],
   "source": [
    "from sklearn.preprocessing import RobustScaler"
   ]
  },
  {
   "cell_type": "code",
   "execution_count": null,
   "metadata": {},
   "outputs": [],
   "source": [
    "scaler = RobustScaler().fit(x_train)"
   ]
  },
  {
   "cell_type": "code",
   "execution_count": null,
   "metadata": {},
   "outputs": [],
   "source": [
    "x_train_scaled = scaler.transform(x_train)\n",
    "x_test_scaled = scaler.transform(x_test)"
   ]
  },
  {
   "cell_type": "markdown",
   "metadata": {},
   "source": [
    "**Balancing**"
   ]
  },
  {
   "cell_type": "code",
   "execution_count": null,
   "metadata": {},
   "outputs": [],
   "source": [
    "from imblearn.over_sampling import SMOTE"
   ]
  },
  {
   "cell_type": "code",
   "execution_count": null,
   "metadata": {},
   "outputs": [],
   "source": [
    "print(f'Number of users with plan 0 pre-balancing: {len(y_train[y_train == 0])} and with plan 1: {len(y_train[y_train == 1])}')"
   ]
  },
  {
   "cell_type": "code",
   "execution_count": null,
   "metadata": {},
   "outputs": [],
   "source": [
    "sm = SMOTE(random_state=10)\n",
    "x_train_res, y_train_res = sm.fit_resample(x_train_scaled, y_train)"
   ]
  },
  {
   "cell_type": "code",
   "execution_count": null,
   "metadata": {},
   "outputs": [],
   "source": [
    "print(f'Number of users with plan 0 post-balancing: {len(y_train_res[y_train_res == 0])} and with plan 1: {len(y_train_res[y_train_res == 1])}')"
   ]
  },
  {
   "cell_type": "markdown",
   "metadata": {},
   "source": [
    "**Models**"
   ]
  },
  {
   "cell_type": "code",
   "execution_count": null,
   "metadata": {},
   "outputs": [],
   "source": [
    "from ml import MLModels"
   ]
  },
  {
   "cell_type": "code",
   "execution_count": null,
   "metadata": {},
   "outputs": [],
   "source": [
    "lr_model = MLModels(x_train_res, x_test, y_train_res, y_test)\n",
    "lr_model.logistic_regression()\n",
    "lr_model.grid_search()"
   ]
  },
  {
   "cell_type": "markdown",
   "metadata": {
    "pycharm": {
     "name": "#%% md\n"
    }
   },
   "source": [
    "**Tests and raw code**"
   ]
  },
  {
   "cell_type": "code",
   "execution_count": null,
   "metadata": {
    "collapsed": false,
    "jupyter": {
     "outputs_hidden": false
    },
    "pycharm": {
     "name": "#%%\n"
    }
   },
   "outputs": [],
   "source": [
    "len(data[(data.transactions_state == 2) & (data.direction==\"INBOUND\")])"
   ]
  },
  {
   "cell_type": "code",
   "execution_count": null,
   "metadata": {},
   "outputs": [],
   "source": [
    "pd.crosstab(index=data['transactions_type'],columns=data['transactions_state'])"
   ]
  },
  {
   "cell_type": "code",
   "execution_count": null,
   "metadata": {},
   "outputs": [],
   "source": [
    "pd.crosstab(index=data['transactions_type'],columns=data['direction'])"
   ]
  },
  {
   "cell_type": "code",
   "execution_count": null,
   "metadata": {},
   "outputs": [],
   "source": [
    "pd.crosstab(index=data['direction'],columns=data['transactions_state'])"
   ]
  },
  {
   "cell_type": "code",
   "execution_count": null,
   "metadata": {},
   "outputs": [],
   "source": [
    "data[(data.user_id == \"user_7\") & (data.transactions_state == 2) & (data.amount_usd == 8.51) & (data.direction == \"INBOUND\")]"
   ]
  },
  {
   "cell_type": "code",
   "execution_count": null,
   "metadata": {},
   "outputs": [],
   "source": [
    "data[data[\"user_id\"] == \"user_12038\"].sort_values(by='transaction_created_date', ascending=True)"
   ]
  },
  {
   "cell_type": "code",
   "execution_count": null,
   "metadata": {},
   "outputs": [],
   "source": [
    "pd.crosstab(index=data['transactions_type'],columns=data['ea_cardholderpresence'])"
   ]
  },
  {
   "cell_type": "code",
   "execution_count": null,
   "metadata": {},
   "outputs": [],
   "source": [
    "data['num_contacts'].describe()"
   ]
  },
  {
   "cell_type": "code",
   "execution_count": null,
   "metadata": {},
   "outputs": [],
   "source": [
    "data['ea_cardholderpresence'].value_counts()"
   ]
  }
 ],
 "metadata": {
  "kernelspec": {
   "display_name": "Python 3",
   "language": "python",
   "name": "python3"
  },
  "language_info": {
   "codemirror_mode": {
    "name": "ipython",
    "version": 3
   },
   "file_extension": ".py",
   "mimetype": "text/x-python",
   "name": "python",
   "nbconvert_exporter": "python",
   "pygments_lexer": "ipython3",
   "version": "3.8.2"
  }
 },
 "nbformat": 4,
 "nbformat_minor": 4
}
