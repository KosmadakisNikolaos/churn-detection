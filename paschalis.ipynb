{
 "cells": [
  {
   "cell_type": "markdown",
   "metadata": {},
   "source": [
    "**Merging transactions**"
   ]
  },
  {
   "cell_type": "code",
   "execution_count": 1,
   "metadata": {},
   "outputs": [
    {
     "data": {
      "text/plain": [
       "'Only to be used if \"all_tranformations.csv\" does not exist.'"
      ]
     },
     "execution_count": 1,
     "metadata": {},
     "output_type": "execute_result"
    }
   ],
   "source": [
    "import pandas as pd\n",
    "import numpy as np\n",
    "import seaborn as sns\n",
    "import matplotlib.pyplot as plt\n",
    "'''Only to be used if \"all_tranformations.csv\" does not exist.'''\n",
    "# df = pd.read_csv(\"data/transactions_1.csv\")\n",
    "# df2 = pd.read_csv(\"data/transactions_2.csv\")\n",
    "# df3 = pd.read_csv(\"data/transactions_3.csv\")\n",
    "\n",
    "# #combining datasets in one CSV\n",
    "# transactions=pd.concat([df,df2,df3], ignore_index = True)\n",
    "\n",
    "# #saving to directory\n",
    "# transactions.to_csv(r'data/all_transactions.csv', index = False)"
   ]
  },
  {
   "cell_type": "code",
   "execution_count": 37,
   "metadata": {},
   "outputs": [],
   "source": [
    "\n",
    "    "
   ]
  },
  {
   "cell_type": "markdown",
   "metadata": {},
   "source": [
    "**Merging datagrames**"
   ]
  },
  {
   "cell_type": "code",
   "execution_count": 3,
   "metadata": {},
   "outputs": [],
   "source": [
    "df = pd.read_csv(\"data/all_transactions.csv\")\n",
    "df2 = pd.read_csv(\"data/users.csv\")\n",
    "df3 = pd.read_csv(\"data/devices.csv\")\n",
    "df4 = pd.merge(df2, df3[df3.brand != \"Unknown\"], on='user_id')\n",
    "data = pd.merge(df4, df, on='user_id')\n",
    "# df = pd.merge(df, df3, on='user_id')\n",
    "# data = pd.merge(df, df2, on='user_id')"
   ]
  },
  {
   "cell_type": "markdown",
   "metadata": {},
   "source": [
    "**Renaming columns**"
   ]
  },
  {
   "cell_type": "code",
   "execution_count": 4,
   "metadata": {},
   "outputs": [],
   "source": [
    "data = data.rename(columns={\"created_date_x\": \"user_created_date\", \"created_date_y\": \"transaction_created_date\", \"country\": \"user_country\"})"
   ]
  },
  {
   "cell_type": "markdown",
   "metadata": {},
   "source": [
    "**Removing unnecessary columns**"
   ]
  },
  {
   "cell_type": "code",
   "execution_count": 5,
   "metadata": {},
   "outputs": [],
   "source": [
    "data = data.drop(['city', 'attributes_notifications_marketing_push', 'attributes_notifications_marketing_email', 'num_successful_referrals', 'ea_merchant_mcc', 'ea_merchant_city', 'ea_merchant_country', 'num_referrals'], axis=1)"
   ]
  },
  {
   "cell_type": "markdown",
   "metadata": {},
   "source": [
    "**Column Tranformations**"
   ]
  },
  {
   "cell_type": "code",
   "execution_count": 6,
   "metadata": {},
   "outputs": [],
   "source": [
    "plan_ = {\"STANDARD\": 0,\"SILVER\": 1,\"GOLD\": 1}\n",
    "data['plan'] = data['plan'].map(plan_)"
   ]
  },
  {
   "cell_type": "code",
   "execution_count": 7,
   "metadata": {},
   "outputs": [],
   "source": [
    "currency_ = {'AED' : 0, 'SEK' : 0, 'AUD' : 0, 'GBP' : 0, 'ETH' : 1, 'RUB' : 0, 'CHF' : 0, 'HRK' : 0, 'LTC' : 1, 'MAD' : 0, 'BTC' : 1, 'NZD' : 0, 'JPY' : 0, 'ILS' : 0, 'QAR' : 0, 'MXN' : 0, 'DKK' : 0, 'SGD' : 0, 'ZAR' : 0, 'BGN' : 0, 'USD' : 0, 'INR' : 0, 'THB' : 0, 'RON' : 0, 'HUF' : 0, 'TRY' : 0, 'XRP' : 1, 'PLN' : 0, 'EUR' : 0, 'BCH' : 1, 'CZK' : 0, 'CAD' : 0, 'NOK' : 0, 'HKD' : 0, 'SAR' : 0}\n",
    "data['transactions_currency'] = data['transactions_currency'].map(currency_)"
   ]
  },
  {
   "cell_type": "code",
   "execution_count": 8,
   "metadata": {
    "pycharm": {
     "name": "#%%\n"
    }
   },
   "outputs": [],
   "source": [
    "currency_ = {'FAILED': 0, 'DECLINED': 0, 'COMPLETED': 1, 'REVERTED': 2, 'PENDING': 0, 'CANCELLED': 0}\n",
    "data['transactions_state'] = data['transactions_state'].map(currency_)"
   ]
  },
  {
   "cell_type": "code",
   "execution_count": 9,
   "metadata": {},
   "outputs": [],
   "source": [
    "brands = {\"Android\": 0,\"Apple\": 1}\n",
    "data['brand'] = data['brand'].map(brands)"
   ]
  },
  {
   "cell_type": "code",
   "execution_count": 10,
   "metadata": {},
   "outputs": [],
   "source": [
    "# SWEU --> south western eu\n",
    "# EEU --> Eastern Europe\n",
    "# CEU --> Central Europe\n",
    "# SWEU --> South Western Europe\n",
    "# WEU --> Western Europe\n",
    "# NEU ---> Norhern Europe\n",
    "# AS --> ASIA\n",
    "# NA --> northamerica\n",
    "# AF --> Africa\n",
    "# OC --> Oceania\n",
    "\n",
    "#(oceania,namerica,africa,SEU)\n",
    "#(SWEU,CEU,NEU,EEU)\n",
    "#(Western Europe)\n",
    "\n",
    "\n",
    "continents_ = {'ES':'SWEU', 'LT':'EEU', 'IE':'WEU', 'GB':'WEU', 'MT':'SWEU', 'FR':'SWEU', 'RO':'SWEU', 'PL':'EEU', 'AT':'CEU', 'IT':'SWEU', 'SI':'CEU', 'CZ':'CEU', 'BE':'WEU', 'BG':'SWEU', 'GI':'SWEU', 'CH':'AS', 'GG':'SWEU', 'CY':'SWEU', 'DE':'CEU', 'SK':'CEU', 'GR':'SEU', 'DK':'NEU', 'PT':'SWEU', 'LU':'NEU', 'HR':'SWEU', 'NL':'NEU', 'SE':'NEU', 'LV':'EEU', 'IM':'NEU', 'FI':'NEU', 'EE':'EEU', 'JE':'SWEU', 'HU':'CEU', 'NO':'NEU', 'RE':'AF', 'IS':'NEU', 'GP':'NA', 'AU':'OC', 'LI':'EEU', 'MQ':'NA'}\n",
    "data['user_country'] = data['user_country'].map(continents_)\n",
    "\n",
    "\n",
    "#Appending new Continents\n",
    "new_continents_ = {'OC':'rest_of_the_world','NA':'rest_of_the_world','AF':'rest_of_the_world','SEU':'rest_of_the_world','AS':'rest_of_the_world',\n",
    "               'SWEU':'Central_Europe','CEU':'Central_Europe','NEU':'Central_Europe','EEU':'Central_Europe',\n",
    "                 'WEU':'Western_Europe'}\n",
    "\n",
    "data['user_country'] = data['user_country'].map(new_continents_)\n",
    "\n",
    "\n",
    "# Renaming Column\n",
    "data = data.rename(columns={\"user_country\": \"continent\"})"
   ]
  },
  {
   "cell_type": "code",
   "execution_count": 11,
   "metadata": {},
   "outputs": [],
   "source": [
    "data = data[(data.transactions_state == 1) | (data.transactions_state == 2)]"
   ]
  },
  {
   "cell_type": "code",
   "execution_count": 12,
   "metadata": {},
   "outputs": [
    {
     "data": {
      "text/plain": [
       "Central_Europe       1024059\n",
       "Western_Europe        918553\n",
       "rest_of_the_world      49584\n",
       "Name: continent, dtype: int64"
      ]
     },
     "execution_count": 12,
     "metadata": {},
     "output_type": "execute_result"
    }
   ],
   "source": [
    "data['continent'].value_counts()"
   ]
  },
  {
   "cell_type": "code",
   "execution_count": 13,
   "metadata": {},
   "outputs": [
    {
     "data": {
      "text/plain": [
       "0"
      ]
     },
     "execution_count": 13,
     "metadata": {},
     "output_type": "execute_result"
    }
   ],
   "source": [
    "data['continent'].isna().sum()"
   ]
  },
  {
   "cell_type": "markdown",
   "metadata": {},
   "source": [
    "**Plots**"
   ]
  },
  {
   "cell_type": "code",
   "execution_count": 14,
   "metadata": {},
   "outputs": [],
   "source": [
    "import seaborn as sns\n",
    "import matplotlib.pyplot as plt\n",
    "\n",
    "%matplotlib inline"
   ]
  },
  {
   "cell_type": "code",
   "execution_count": 15,
   "metadata": {},
   "outputs": [
    {
     "data": {
      "image/png": "[encoded data removed]",
      "text/plain": [
       "<Figure size 1440x1080 with 1 Axes>"
      ]
     },
     "metadata": {
      "needs_background": "light"
     },
     "output_type": "display_data"
    }
   ],
   "source": [
    "carrier_count = df2['country'].value_counts()\n",
    "carrier_count.plot(figsize=(20,15))\n",
    "sns.set(style=\"darkgrid\")\n",
    "sns.barplot(carrier_count.index, carrier_count.values, alpha=0.9)\n",
    "\n",
    "plt.title('Users Per Country',fontsize=19)\n",
    "plt.ylabel('Number of Users', fontsize=19)\n",
    "plt.xlabel('Country', fontsize=14)\n",
    "plt.xticks(rotation=60,fontsize=14)\n",
    "\n",
    "plt.show()"
   ]
  },
  {
   "cell_type": "code",
   "execution_count": 16,
   "metadata": {},
   "outputs": [
    {
     "data": {
      "image/png": "[encoded data removed]",
      "text/plain": [
       "<Figure size 720x720 with 1 Axes>"
      ]
     },
     "metadata": {},
     "output_type": "display_data"
    }
   ],
   "source": [
    "carrier_count = data['continent'].value_counts()\n",
    "carrier_count.plot(figsize=(10,10))\n",
    "sns.set(style=\"darkgrid\")\n",
    "sns.barplot(carrier_count.index, carrier_count.values, alpha=0.9)\n",
    "\n",
    "plt.title('Transactions Per Continent',fontsize=19)\n",
    "plt.ylabel('Number of transactions', fontsize=19)\n",
    "plt.xticks(fontsize=14)\n",
    "\n",
    "plt.show()"
   ]
  },
  {
   "cell_type": "markdown",
   "metadata": {},
   "source": [
    "**Aggregating**"
   ]
  },
  {
   "cell_type": "code",
   "execution_count": 17,
   "metadata": {},
   "outputs": [],
   "source": [
    "def age_bands(year):\n",
    "    year = 2020 - year\n",
    "    if year < 25:\n",
    "        return 0\n",
    "    elif year < 35:\n",
    "        return 1\n",
    "    elif year < 45:\n",
    "        return 2\n",
    "    elif year < 55:\n",
    "        return 3\n",
    "    elif year < 65:\n",
    "        return 4\n",
    "    return 5"
   ]
  },
  {
   "cell_type": "code",
   "execution_count": 18,
   "metadata": {},
   "outputs": [
    {
     "data": {
      "text/html": [
       "<div>\n",
       "<style scoped>\n",
       "    .dataframe tbody tr th:only-of-type {\n",
       "        vertical-align: middle;\n",
       "    }\n",
       "\n",
       "    .dataframe tbody tr th {\n",
       "        vertical-align: top;\n",
       "    }\n",
       "\n",
       "    .dataframe thead th {\n",
       "        text-align: right;\n",
       "    }\n",
       "</style>\n",
       "<table border=\"1\" class=\"dataframe\">\n",
       "  <thead>\n",
       "    <tr style=\"text-align: right;\">\n",
       "      <th></th>\n",
       "      <th>user_id</th>\n",
       "      <th>birth_year</th>\n",
       "      <th>continent</th>\n",
       "      <th>user_created_date</th>\n",
       "      <th>user_settings_crypto_unlocked</th>\n",
       "      <th>plan</th>\n",
       "      <th>num_contacts</th>\n",
       "      <th>brand</th>\n",
       "    </tr>\n",
       "  </thead>\n",
       "  <tbody>\n",
       "    <tr>\n",
       "      <th>0</th>\n",
       "      <td>user_0</td>\n",
       "      <td>1</td>\n",
       "      <td>Central_Europe</td>\n",
       "      <td>2018-09-10 18:46:42.843855</td>\n",
       "      <td>0</td>\n",
       "      <td>0</td>\n",
       "      <td>3</td>\n",
       "      <td>1</td>\n",
       "    </tr>\n",
       "    <tr>\n",
       "      <th>1</th>\n",
       "      <td>user_1</td>\n",
       "      <td>2</td>\n",
       "      <td>Central_Europe</td>\n",
       "      <td>2018-01-11 18:53:10.531146</td>\n",
       "      <td>1</td>\n",
       "      <td>0</td>\n",
       "      <td>75</td>\n",
       "      <td>1</td>\n",
       "    </tr>\n",
       "    <tr>\n",
       "      <th>2</th>\n",
       "      <td>user_10</td>\n",
       "      <td>0</td>\n",
       "      <td>Central_Europe</td>\n",
       "      <td>2018-01-26 18:40:43.166413</td>\n",
       "      <td>1</td>\n",
       "      <td>0</td>\n",
       "      <td>19</td>\n",
       "      <td>1</td>\n",
       "    </tr>\n",
       "    <tr>\n",
       "      <th>3</th>\n",
       "      <td>user_100</td>\n",
       "      <td>1</td>\n",
       "      <td>Central_Europe</td>\n",
       "      <td>2018-12-02 14:18:09.034151</td>\n",
       "      <td>0</td>\n",
       "      <td>0</td>\n",
       "      <td>0</td>\n",
       "      <td>0</td>\n",
       "    </tr>\n",
       "    <tr>\n",
       "      <th>4</th>\n",
       "      <td>user_1000</td>\n",
       "      <td>1</td>\n",
       "      <td>Central_Europe</td>\n",
       "      <td>2018-03-22 22:08:56.267644</td>\n",
       "      <td>0</td>\n",
       "      <td>1</td>\n",
       "      <td>13</td>\n",
       "      <td>1</td>\n",
       "    </tr>\n",
       "    <tr>\n",
       "      <th>...</th>\n",
       "      <td>...</td>\n",
       "      <td>...</td>\n",
       "      <td>...</td>\n",
       "      <td>...</td>\n",
       "      <td>...</td>\n",
       "      <td>...</td>\n",
       "      <td>...</td>\n",
       "      <td>...</td>\n",
       "    </tr>\n",
       "    <tr>\n",
       "      <th>14902</th>\n",
       "      <td>user_9995</td>\n",
       "      <td>1</td>\n",
       "      <td>Central_Europe</td>\n",
       "      <td>2018-06-05 06:16:51.861843</td>\n",
       "      <td>0</td>\n",
       "      <td>0</td>\n",
       "      <td>0</td>\n",
       "      <td>1</td>\n",
       "    </tr>\n",
       "    <tr>\n",
       "      <th>14903</th>\n",
       "      <td>user_9996</td>\n",
       "      <td>4</td>\n",
       "      <td>Western_Europe</td>\n",
       "      <td>2018-10-26 03:59:55.030756</td>\n",
       "      <td>0</td>\n",
       "      <td>0</td>\n",
       "      <td>0</td>\n",
       "      <td>1</td>\n",
       "    </tr>\n",
       "    <tr>\n",
       "      <th>14904</th>\n",
       "      <td>user_9997</td>\n",
       "      <td>1</td>\n",
       "      <td>Western_Europe</td>\n",
       "      <td>2018-08-18 04:07:31.402857</td>\n",
       "      <td>0</td>\n",
       "      <td>0</td>\n",
       "      <td>6</td>\n",
       "      <td>0</td>\n",
       "    </tr>\n",
       "    <tr>\n",
       "      <th>14905</th>\n",
       "      <td>user_9998</td>\n",
       "      <td>1</td>\n",
       "      <td>Central_Europe</td>\n",
       "      <td>2019-01-02 02:17:00.962571</td>\n",
       "      <td>0</td>\n",
       "      <td>0</td>\n",
       "      <td>21</td>\n",
       "      <td>0</td>\n",
       "    </tr>\n",
       "    <tr>\n",
       "      <th>14906</th>\n",
       "      <td>user_9999</td>\n",
       "      <td>1</td>\n",
       "      <td>Central_Europe</td>\n",
       "      <td>2018-12-17 21:00:16.518284</td>\n",
       "      <td>0</td>\n",
       "      <td>0</td>\n",
       "      <td>0</td>\n",
       "      <td>1</td>\n",
       "    </tr>\n",
       "  </tbody>\n",
       "</table>\n",
       "<p>14907 rows × 8 columns</p>\n",
       "</div>"
      ],
      "text/plain": [
       "         user_id  birth_year       continent           user_created_date  \\\n",
       "0         user_0           1  Central_Europe  2018-09-10 18:46:42.843855   \n",
       "1         user_1           2  Central_Europe  2018-01-11 18:53:10.531146   \n",
       "2        user_10           0  Central_Europe  2018-01-26 18:40:43.166413   \n",
       "3       user_100           1  Central_Europe  2018-12-02 14:18:09.034151   \n",
       "4      user_1000           1  Central_Europe  2018-03-22 22:08:56.267644   \n",
       "...          ...         ...             ...                         ...   \n",
       "14902  user_9995           1  Central_Europe  2018-06-05 06:16:51.861843   \n",
       "14903  user_9996           4  Western_Europe  2018-10-26 03:59:55.030756   \n",
       "14904  user_9997           1  Western_Europe  2018-08-18 04:07:31.402857   \n",
       "14905  user_9998           1  Central_Europe  2019-01-02 02:17:00.962571   \n",
       "14906  user_9999           1  Central_Europe  2018-12-17 21:00:16.518284   \n",
       "\n",
       "       user_settings_crypto_unlocked  plan  num_contacts  brand  \n",
       "0                                  0     0             3      1  \n",
       "1                                  1     0            75      1  \n",
       "2                                  1     0            19      1  \n",
       "3                                  0     0             0      0  \n",
       "4                                  0     1            13      1  \n",
       "...                              ...   ...           ...    ...  \n",
       "14902                              0     0             0      1  \n",
       "14903                              0     0             0      1  \n",
       "14904                              0     0             6      0  \n",
       "14905                              0     0            21      0  \n",
       "14906                              0     0             0      1  \n",
       "\n",
       "[14907 rows x 8 columns]"
      ]
     },
     "execution_count": 18,
     "metadata": {},
     "output_type": "execute_result"
    }
   ],
   "source": [
    "# Demographics\n",
    "users_agg_df = data.groupby(['user_id']).agg({'birth_year': 'first', 'continent': 'first', 'user_created_date': 'first', 'user_settings_crypto_unlocked': 'first', 'plan': 'first', 'num_contacts': 'first', 'brand': 'first'}).reset_index()\n",
    "users_agg_df[\"birth_year\"] = users_agg_df[\"birth_year\"].apply(lambda x: age_bands(x))\n",
    "users_agg_df"
   ]
  },
  {
   "cell_type": "code",
   "execution_count": 19,
   "metadata": {},
   "outputs": [
    {
     "data": {
      "text/html": [
       "<div>\n",
       "<style scoped>\n",
       "    .dataframe tbody tr th:only-of-type {\n",
       "        vertical-align: middle;\n",
       "    }\n",
       "\n",
       "    .dataframe tbody tr th {\n",
       "        vertical-align: top;\n",
       "    }\n",
       "\n",
       "    .dataframe thead th {\n",
       "        text-align: right;\n",
       "    }\n",
       "</style>\n",
       "<table border=\"1\" class=\"dataframe\">\n",
       "  <thead>\n",
       "    <tr style=\"text-align: right;\">\n",
       "      <th></th>\n",
       "      <th>user_id</th>\n",
       "      <th>first_transaction_date</th>\n",
       "      <th>last_transaction_date</th>\n",
       "    </tr>\n",
       "  </thead>\n",
       "  <tbody>\n",
       "    <tr>\n",
       "      <th>0</th>\n",
       "      <td>user_0</td>\n",
       "      <td>2018-09-10 18:51:20.218855</td>\n",
       "      <td>2019-05-10 05:09:13.868855</td>\n",
       "    </tr>\n",
       "    <tr>\n",
       "      <th>1</th>\n",
       "      <td>user_1</td>\n",
       "      <td>2018-02-04 08:27:53.463146</td>\n",
       "      <td>2019-05-04 02:30:11.492146</td>\n",
       "    </tr>\n",
       "    <tr>\n",
       "      <th>2</th>\n",
       "      <td>user_10</td>\n",
       "      <td>2018-06-29 15:37:38.050413</td>\n",
       "      <td>2019-05-11 13:07:42.624413</td>\n",
       "    </tr>\n",
       "    <tr>\n",
       "      <th>3</th>\n",
       "      <td>user_100</td>\n",
       "      <td>2018-12-02 14:22:58.423151</td>\n",
       "      <td>2019-02-24 13:36:50.054151</td>\n",
       "    </tr>\n",
       "    <tr>\n",
       "      <th>4</th>\n",
       "      <td>user_1000</td>\n",
       "      <td>2019-03-27 11:03:23.105644</td>\n",
       "      <td>2019-05-05 19:08:42.183644</td>\n",
       "    </tr>\n",
       "    <tr>\n",
       "      <th>...</th>\n",
       "      <td>...</td>\n",
       "      <td>...</td>\n",
       "      <td>...</td>\n",
       "    </tr>\n",
       "    <tr>\n",
       "      <th>14902</th>\n",
       "      <td>user_9995</td>\n",
       "      <td>2018-06-16 19:51:44.248843</td>\n",
       "      <td>2019-05-01 12:21:34.372843</td>\n",
       "    </tr>\n",
       "    <tr>\n",
       "      <th>14903</th>\n",
       "      <td>user_9996</td>\n",
       "      <td>2018-10-26 04:02:43.183756</td>\n",
       "      <td>2019-01-08 05:59:32.103756</td>\n",
       "    </tr>\n",
       "    <tr>\n",
       "      <th>14904</th>\n",
       "      <td>user_9997</td>\n",
       "      <td>2018-08-18 04:15:20.234857</td>\n",
       "      <td>2019-04-27 00:32:53.447857</td>\n",
       "    </tr>\n",
       "    <tr>\n",
       "      <th>14905</th>\n",
       "      <td>user_9998</td>\n",
       "      <td>2019-01-02 02:23:38.707571</td>\n",
       "      <td>2019-03-15 09:27:13.108571</td>\n",
       "    </tr>\n",
       "    <tr>\n",
       "      <th>14906</th>\n",
       "      <td>user_9999</td>\n",
       "      <td>2019-05-07 23:21:55.532284</td>\n",
       "      <td>2019-05-10 14:07:57.842284</td>\n",
       "    </tr>\n",
       "  </tbody>\n",
       "</table>\n",
       "<p>14907 rows × 3 columns</p>\n",
       "</div>"
      ],
      "text/plain": [
       "         user_id      first_transaction_date       last_transaction_date\n",
       "0         user_0  2018-09-10 18:51:20.218855  2019-05-10 05:09:13.868855\n",
       "1         user_1  2018-02-04 08:27:53.463146  2019-05-04 02:30:11.492146\n",
       "2        user_10  2018-06-29 15:37:38.050413  2019-05-11 13:07:42.624413\n",
       "3       user_100  2018-12-02 14:22:58.423151  2019-02-24 13:36:50.054151\n",
       "4      user_1000  2019-03-27 11:03:23.105644  2019-05-05 19:08:42.183644\n",
       "...          ...                         ...                         ...\n",
       "14902  user_9995  2018-06-16 19:51:44.248843  2019-05-01 12:21:34.372843\n",
       "14903  user_9996  2018-10-26 04:02:43.183756  2019-01-08 05:59:32.103756\n",
       "14904  user_9997  2018-08-18 04:15:20.234857  2019-04-27 00:32:53.447857\n",
       "14905  user_9998  2019-01-02 02:23:38.707571  2019-03-15 09:27:13.108571\n",
       "14906  user_9999  2019-05-07 23:21:55.532284  2019-05-10 14:07:57.842284\n",
       "\n",
       "[14907 rows x 3 columns]"
      ]
     },
     "execution_count": 19,
     "metadata": {},
     "output_type": "execute_result"
    }
   ],
   "source": [
    "# First and last transaction of each user\n",
    "first_transactions_date_agg = data.groupby([\"user_id\"]).agg({'transaction_created_date': 'min'}).reset_index().rename(columns={\"transaction_created_date\": \"first_transaction_date\"})\n",
    "last_transactions_date_agg = data.groupby([\"user_id\"]).agg({'transaction_created_date': 'max'}).reset_index().rename(columns={\"transaction_created_date\": \"last_transaction_date\"})\n",
    "transactions_date_agg = pd.merge(first_transactions_date_agg, last_transactions_date_agg, on=\"user_id\")\n",
    "transactions_date_agg"
   ]
  },
  {
   "cell_type": "code",
   "execution_count": 20,
   "metadata": {},
   "outputs": [
    {
     "data": {
      "text/html": [
       "<div>\n",
       "<style scoped>\n",
       "    .dataframe tbody tr th:only-of-type {\n",
       "        vertical-align: middle;\n",
       "    }\n",
       "\n",
       "    .dataframe tbody tr th {\n",
       "        vertical-align: top;\n",
       "    }\n",
       "\n",
       "    .dataframe thead th {\n",
       "        text-align: right;\n",
       "    }\n",
       "</style>\n",
       "<table border=\"1\" class=\"dataframe\">\n",
       "  <thead>\n",
       "    <tr style=\"text-align: right;\">\n",
       "      <th></th>\n",
       "      <th>user_id</th>\n",
       "      <th>n_transactions</th>\n",
       "    </tr>\n",
       "  </thead>\n",
       "  <tbody>\n",
       "    <tr>\n",
       "      <th>0</th>\n",
       "      <td>user_0</td>\n",
       "      <td>528</td>\n",
       "    </tr>\n",
       "    <tr>\n",
       "      <th>1</th>\n",
       "      <td>user_1</td>\n",
       "      <td>139</td>\n",
       "    </tr>\n",
       "    <tr>\n",
       "      <th>2</th>\n",
       "      <td>user_10</td>\n",
       "      <td>126</td>\n",
       "    </tr>\n",
       "    <tr>\n",
       "      <th>3</th>\n",
       "      <td>user_100</td>\n",
       "      <td>58</td>\n",
       "    </tr>\n",
       "    <tr>\n",
       "      <th>4</th>\n",
       "      <td>user_1000</td>\n",
       "      <td>43</td>\n",
       "    </tr>\n",
       "    <tr>\n",
       "      <th>...</th>\n",
       "      <td>...</td>\n",
       "      <td>...</td>\n",
       "    </tr>\n",
       "    <tr>\n",
       "      <th>14902</th>\n",
       "      <td>user_9995</td>\n",
       "      <td>6</td>\n",
       "    </tr>\n",
       "    <tr>\n",
       "      <th>14903</th>\n",
       "      <td>user_9996</td>\n",
       "      <td>32</td>\n",
       "    </tr>\n",
       "    <tr>\n",
       "      <th>14904</th>\n",
       "      <td>user_9997</td>\n",
       "      <td>136</td>\n",
       "    </tr>\n",
       "    <tr>\n",
       "      <th>14905</th>\n",
       "      <td>user_9998</td>\n",
       "      <td>31</td>\n",
       "    </tr>\n",
       "    <tr>\n",
       "      <th>14906</th>\n",
       "      <td>user_9999</td>\n",
       "      <td>4</td>\n",
       "    </tr>\n",
       "  </tbody>\n",
       "</table>\n",
       "<p>14907 rows × 2 columns</p>\n",
       "</div>"
      ],
      "text/plain": [
       "         user_id  n_transactions\n",
       "0         user_0             528\n",
       "1         user_1             139\n",
       "2        user_10             126\n",
       "3       user_100              58\n",
       "4      user_1000              43\n",
       "...          ...             ...\n",
       "14902  user_9995               6\n",
       "14903  user_9996              32\n",
       "14904  user_9997             136\n",
       "14905  user_9998              31\n",
       "14906  user_9999               4\n",
       "\n",
       "[14907 rows x 2 columns]"
      ]
     },
     "execution_count": 20,
     "metadata": {},
     "output_type": "execute_result"
    }
   ],
   "source": [
    "# Total transactions\n",
    "user_transactions = data.groupby([\"user_id\"]).agg({'transaction_created_date': 'count'}).reset_index().rename(columns={\"transaction_created_date\": \"n_transactions\"})\n",
    "user_transactions"
   ]
  },
  {
   "cell_type": "code",
   "execution_count": 21,
   "metadata": {},
   "outputs": [
    {
     "data": {
      "text/html": [
       "<div>\n",
       "<style scoped>\n",
       "    .dataframe tbody tr th:only-of-type {\n",
       "        vertical-align: middle;\n",
       "    }\n",
       "\n",
       "    .dataframe tbody tr th {\n",
       "        vertical-align: top;\n",
       "    }\n",
       "\n",
       "    .dataframe thead th {\n",
       "        text-align: right;\n",
       "    }\n",
       "</style>\n",
       "<table border=\"1\" class=\"dataframe\">\n",
       "  <thead>\n",
       "    <tr style=\"text-align: right;\">\n",
       "      <th></th>\n",
       "      <th>user_id</th>\n",
       "      <th>total_amount</th>\n",
       "    </tr>\n",
       "  </thead>\n",
       "  <tbody>\n",
       "    <tr>\n",
       "      <th>0</th>\n",
       "      <td>user_0</td>\n",
       "      <td>6892.45</td>\n",
       "    </tr>\n",
       "    <tr>\n",
       "      <th>1</th>\n",
       "      <td>user_1</td>\n",
       "      <td>12953.66</td>\n",
       "    </tr>\n",
       "    <tr>\n",
       "      <th>2</th>\n",
       "      <td>user_10</td>\n",
       "      <td>5381.07</td>\n",
       "    </tr>\n",
       "    <tr>\n",
       "      <th>3</th>\n",
       "      <td>user_100</td>\n",
       "      <td>3716.07</td>\n",
       "    </tr>\n",
       "    <tr>\n",
       "      <th>4</th>\n",
       "      <td>user_1000</td>\n",
       "      <td>843.12</td>\n",
       "    </tr>\n",
       "    <tr>\n",
       "      <th>...</th>\n",
       "      <td>...</td>\n",
       "      <td>...</td>\n",
       "    </tr>\n",
       "    <tr>\n",
       "      <th>14784</th>\n",
       "      <td>user_9995</td>\n",
       "      <td>239.65</td>\n",
       "    </tr>\n",
       "    <tr>\n",
       "      <th>14785</th>\n",
       "      <td>user_9996</td>\n",
       "      <td>1680.76</td>\n",
       "    </tr>\n",
       "    <tr>\n",
       "      <th>14786</th>\n",
       "      <td>user_9997</td>\n",
       "      <td>4046.05</td>\n",
       "    </tr>\n",
       "    <tr>\n",
       "      <th>14787</th>\n",
       "      <td>user_9998</td>\n",
       "      <td>520.52</td>\n",
       "    </tr>\n",
       "    <tr>\n",
       "      <th>14788</th>\n",
       "      <td>user_9999</td>\n",
       "      <td>-1.70</td>\n",
       "    </tr>\n",
       "  </tbody>\n",
       "</table>\n",
       "<p>14789 rows × 2 columns</p>\n",
       "</div>"
      ],
      "text/plain": [
       "         user_id  total_amount\n",
       "0         user_0       6892.45\n",
       "1         user_1      12953.66\n",
       "2        user_10       5381.07\n",
       "3       user_100       3716.07\n",
       "4      user_1000        843.12\n",
       "...          ...           ...\n",
       "14784  user_9995        239.65\n",
       "14785  user_9996       1680.76\n",
       "14786  user_9997       4046.05\n",
       "14787  user_9998        520.52\n",
       "14788  user_9999         -1.70\n",
       "\n",
       "[14789 rows x 2 columns]"
      ]
     },
     "execution_count": 21,
     "metadata": {},
     "output_type": "execute_result"
    }
   ],
   "source": [
    "# Total amounts of each user\n",
    "transactions_total_agg = data[data.transactions_state == 1].groupby([\"user_id\"]).agg({'amount_usd': 'sum'}).reset_index()\n",
    "transactions_total_agg = transactions_total_agg.rename(columns={\"amount_usd\": \"amount_total\"})\n",
    "transactions_total_rev = data[data.transactions_state == 2].groupby([\"user_id\"]).agg({'amount_usd': 'sum'}).reset_index().rename(columns={'amount_usd': 'amount_reverted'})\n",
    "\n",
    "\n",
    "transactions_total_agg = pd.merge(transactions_total_agg, transactions_total_rev, on=\"user_id\", how=\"left\").fillna(0.0)#converting NaN to 0\n",
    "\n",
    "transactions_total_agg[\"total_amount\"] = transactions_total_agg[\"amount_total\"] - transactions_total_agg[\"amount_reverted\"]\n",
    "transactions_total_agg = transactions_total_agg[[\"user_id\", \"total_amount\"]]\n",
    "transactions_total_agg"
   ]
  },
  {
   "cell_type": "code",
   "execution_count": 22,
   "metadata": {},
   "outputs": [
    {
     "data": {
      "text/html": [
       "<div>\n",
       "<style scoped>\n",
       "    .dataframe tbody tr th:only-of-type {\n",
       "        vertical-align: middle;\n",
       "    }\n",
       "\n",
       "    .dataframe tbody tr th {\n",
       "        vertical-align: top;\n",
       "    }\n",
       "\n",
       "    .dataframe thead th {\n",
       "        text-align: right;\n",
       "    }\n",
       "</style>\n",
       "<table border=\"1\" class=\"dataframe\">\n",
       "  <thead>\n",
       "    <tr style=\"text-align: right;\">\n",
       "      <th></th>\n",
       "      <th>user_id</th>\n",
       "      <th>age_band</th>\n",
       "      <th>user_created_date</th>\n",
       "      <th>user_settings_crypto_unlocked</th>\n",
       "      <th>num_contacts</th>\n",
       "      <th>brand</th>\n",
       "      <th>first_transaction_date</th>\n",
       "      <th>last_transaction_date</th>\n",
       "      <th>total_amount</th>\n",
       "      <th>n_transactions</th>\n",
       "      <th>Central_Europe</th>\n",
       "      <th>Western_Europe</th>\n",
       "      <th>rest_of_the_world</th>\n",
       "      <th>label</th>\n",
       "    </tr>\n",
       "  </thead>\n",
       "  <tbody>\n",
       "    <tr>\n",
       "      <th>0</th>\n",
       "      <td>user_0</td>\n",
       "      <td>1</td>\n",
       "      <td>2018-09-10 18:46:42.843855</td>\n",
       "      <td>0</td>\n",
       "      <td>3</td>\n",
       "      <td>1</td>\n",
       "      <td>2018-09-10 18:51:20.218855</td>\n",
       "      <td>2019-05-10 05:09:13.868855</td>\n",
       "      <td>6892.45</td>\n",
       "      <td>528</td>\n",
       "      <td>1</td>\n",
       "      <td>0</td>\n",
       "      <td>0</td>\n",
       "      <td>0</td>\n",
       "    </tr>\n",
       "    <tr>\n",
       "      <th>1</th>\n",
       "      <td>user_1</td>\n",
       "      <td>2</td>\n",
       "      <td>2018-01-11 18:53:10.531146</td>\n",
       "      <td>1</td>\n",
       "      <td>75</td>\n",
       "      <td>1</td>\n",
       "      <td>2018-02-04 08:27:53.463146</td>\n",
       "      <td>2019-05-04 02:30:11.492146</td>\n",
       "      <td>12953.66</td>\n",
       "      <td>139</td>\n",
       "      <td>1</td>\n",
       "      <td>0</td>\n",
       "      <td>0</td>\n",
       "      <td>0</td>\n",
       "    </tr>\n",
       "    <tr>\n",
       "      <th>2</th>\n",
       "      <td>user_10</td>\n",
       "      <td>0</td>\n",
       "      <td>2018-01-26 18:40:43.166413</td>\n",
       "      <td>1</td>\n",
       "      <td>19</td>\n",
       "      <td>1</td>\n",
       "      <td>2018-06-29 15:37:38.050413</td>\n",
       "      <td>2019-05-11 13:07:42.624413</td>\n",
       "      <td>5381.07</td>\n",
       "      <td>126</td>\n",
       "      <td>1</td>\n",
       "      <td>0</td>\n",
       "      <td>0</td>\n",
       "      <td>0</td>\n",
       "    </tr>\n",
       "    <tr>\n",
       "      <th>3</th>\n",
       "      <td>user_100</td>\n",
       "      <td>1</td>\n",
       "      <td>2018-12-02 14:18:09.034151</td>\n",
       "      <td>0</td>\n",
       "      <td>0</td>\n",
       "      <td>0</td>\n",
       "      <td>2018-12-02 14:22:58.423151</td>\n",
       "      <td>2019-02-24 13:36:50.054151</td>\n",
       "      <td>3716.07</td>\n",
       "      <td>58</td>\n",
       "      <td>1</td>\n",
       "      <td>0</td>\n",
       "      <td>0</td>\n",
       "      <td>0</td>\n",
       "    </tr>\n",
       "    <tr>\n",
       "      <th>4</th>\n",
       "      <td>user_1000</td>\n",
       "      <td>1</td>\n",
       "      <td>2018-03-22 22:08:56.267644</td>\n",
       "      <td>0</td>\n",
       "      <td>13</td>\n",
       "      <td>1</td>\n",
       "      <td>2019-03-27 11:03:23.105644</td>\n",
       "      <td>2019-05-05 19:08:42.183644</td>\n",
       "      <td>843.12</td>\n",
       "      <td>43</td>\n",
       "      <td>1</td>\n",
       "      <td>0</td>\n",
       "      <td>0</td>\n",
       "      <td>1</td>\n",
       "    </tr>\n",
       "    <tr>\n",
       "      <th>...</th>\n",
       "      <td>...</td>\n",
       "      <td>...</td>\n",
       "      <td>...</td>\n",
       "      <td>...</td>\n",
       "      <td>...</td>\n",
       "      <td>...</td>\n",
       "      <td>...</td>\n",
       "      <td>...</td>\n",
       "      <td>...</td>\n",
       "      <td>...</td>\n",
       "      <td>...</td>\n",
       "      <td>...</td>\n",
       "      <td>...</td>\n",
       "      <td>...</td>\n",
       "    </tr>\n",
       "    <tr>\n",
       "      <th>14784</th>\n",
       "      <td>user_9995</td>\n",
       "      <td>1</td>\n",
       "      <td>2018-06-05 06:16:51.861843</td>\n",
       "      <td>0</td>\n",
       "      <td>0</td>\n",
       "      <td>1</td>\n",
       "      <td>2018-06-16 19:51:44.248843</td>\n",
       "      <td>2019-05-01 12:21:34.372843</td>\n",
       "      <td>239.65</td>\n",
       "      <td>6</td>\n",
       "      <td>1</td>\n",
       "      <td>0</td>\n",
       "      <td>0</td>\n",
       "      <td>0</td>\n",
       "    </tr>\n",
       "    <tr>\n",
       "      <th>14785</th>\n",
       "      <td>user_9996</td>\n",
       "      <td>4</td>\n",
       "      <td>2018-10-26 03:59:55.030756</td>\n",
       "      <td>0</td>\n",
       "      <td>0</td>\n",
       "      <td>1</td>\n",
       "      <td>2018-10-26 04:02:43.183756</td>\n",
       "      <td>2019-01-08 05:59:32.103756</td>\n",
       "      <td>1680.76</td>\n",
       "      <td>32</td>\n",
       "      <td>0</td>\n",
       "      <td>1</td>\n",
       "      <td>0</td>\n",
       "      <td>0</td>\n",
       "    </tr>\n",
       "    <tr>\n",
       "      <th>14786</th>\n",
       "      <td>user_9997</td>\n",
       "      <td>1</td>\n",
       "      <td>2018-08-18 04:07:31.402857</td>\n",
       "      <td>0</td>\n",
       "      <td>6</td>\n",
       "      <td>0</td>\n",
       "      <td>2018-08-18 04:15:20.234857</td>\n",
       "      <td>2019-04-27 00:32:53.447857</td>\n",
       "      <td>4046.05</td>\n",
       "      <td>136</td>\n",
       "      <td>0</td>\n",
       "      <td>1</td>\n",
       "      <td>0</td>\n",
       "      <td>0</td>\n",
       "    </tr>\n",
       "    <tr>\n",
       "      <th>14787</th>\n",
       "      <td>user_9998</td>\n",
       "      <td>1</td>\n",
       "      <td>2019-01-02 02:17:00.962571</td>\n",
       "      <td>0</td>\n",
       "      <td>21</td>\n",
       "      <td>0</td>\n",
       "      <td>2019-01-02 02:23:38.707571</td>\n",
       "      <td>2019-03-15 09:27:13.108571</td>\n",
       "      <td>520.52</td>\n",
       "      <td>31</td>\n",
       "      <td>1</td>\n",
       "      <td>0</td>\n",
       "      <td>0</td>\n",
       "      <td>0</td>\n",
       "    </tr>\n",
       "    <tr>\n",
       "      <th>14788</th>\n",
       "      <td>user_9999</td>\n",
       "      <td>1</td>\n",
       "      <td>2018-12-17 21:00:16.518284</td>\n",
       "      <td>0</td>\n",
       "      <td>0</td>\n",
       "      <td>1</td>\n",
       "      <td>2019-05-07 23:21:55.532284</td>\n",
       "      <td>2019-05-10 14:07:57.842284</td>\n",
       "      <td>-1.70</td>\n",
       "      <td>4</td>\n",
       "      <td>1</td>\n",
       "      <td>0</td>\n",
       "      <td>0</td>\n",
       "      <td>0</td>\n",
       "    </tr>\n",
       "  </tbody>\n",
       "</table>\n",
       "<p>14789 rows × 14 columns</p>\n",
       "</div>"
      ],
      "text/plain": [
       "         user_id  age_band           user_created_date  \\\n",
       "0         user_0         1  2018-09-10 18:46:42.843855   \n",
       "1         user_1         2  2018-01-11 18:53:10.531146   \n",
       "2        user_10         0  2018-01-26 18:40:43.166413   \n",
       "3       user_100         1  2018-12-02 14:18:09.034151   \n",
       "4      user_1000         1  2018-03-22 22:08:56.267644   \n",
       "...          ...       ...                         ...   \n",
       "14784  user_9995         1  2018-06-05 06:16:51.861843   \n",
       "14785  user_9996         4  2018-10-26 03:59:55.030756   \n",
       "14786  user_9997         1  2018-08-18 04:07:31.402857   \n",
       "14787  user_9998         1  2019-01-02 02:17:00.962571   \n",
       "14788  user_9999         1  2018-12-17 21:00:16.518284   \n",
       "\n",
       "       user_settings_crypto_unlocked  num_contacts  brand  \\\n",
       "0                                  0             3      1   \n",
       "1                                  1            75      1   \n",
       "2                                  1            19      1   \n",
       "3                                  0             0      0   \n",
       "4                                  0            13      1   \n",
       "...                              ...           ...    ...   \n",
       "14784                              0             0      1   \n",
       "14785                              0             0      1   \n",
       "14786                              0             6      0   \n",
       "14787                              0            21      0   \n",
       "14788                              0             0      1   \n",
       "\n",
       "           first_transaction_date       last_transaction_date  total_amount  \\\n",
       "0      2018-09-10 18:51:20.218855  2019-05-10 05:09:13.868855       6892.45   \n",
       "1      2018-02-04 08:27:53.463146  2019-05-04 02:30:11.492146      12953.66   \n",
       "2      2018-06-29 15:37:38.050413  2019-05-11 13:07:42.624413       5381.07   \n",
       "3      2018-12-02 14:22:58.423151  2019-02-24 13:36:50.054151       3716.07   \n",
       "4      2019-03-27 11:03:23.105644  2019-05-05 19:08:42.183644        843.12   \n",
       "...                           ...                         ...           ...   \n",
       "14784  2018-06-16 19:51:44.248843  2019-05-01 12:21:34.372843        239.65   \n",
       "14785  2018-10-26 04:02:43.183756  2019-01-08 05:59:32.103756       1680.76   \n",
       "14786  2018-08-18 04:15:20.234857  2019-04-27 00:32:53.447857       4046.05   \n",
       "14787  2019-01-02 02:23:38.707571  2019-03-15 09:27:13.108571        520.52   \n",
       "14788  2019-05-07 23:21:55.532284  2019-05-10 14:07:57.842284         -1.70   \n",
       "\n",
       "       n_transactions  Central_Europe  Western_Europe  rest_of_the_world  \\\n",
       "0                 528               1               0                  0   \n",
       "1                 139               1               0                  0   \n",
       "2                 126               1               0                  0   \n",
       "3                  58               1               0                  0   \n",
       "4                  43               1               0                  0   \n",
       "...               ...             ...             ...                ...   \n",
       "14784               6               1               0                  0   \n",
       "14785              32               0               1                  0   \n",
       "14786             136               0               1                  0   \n",
       "14787              31               1               0                  0   \n",
       "14788               4               1               0                  0   \n",
       "\n",
       "       label  \n",
       "0          0  \n",
       "1          0  \n",
       "2          0  \n",
       "3          0  \n",
       "4          1  \n",
       "...      ...  \n",
       "14784      0  \n",
       "14785      0  \n",
       "14786      0  \n",
       "14787      0  \n",
       "14788      0  \n",
       "\n",
       "[14789 rows x 14 columns]"
      ]
     },
     "execution_count": 22,
     "metadata": {},
     "output_type": "execute_result"
    }
   ],
   "source": [
    "# Final df for classification\n",
    "classification_df = pd.merge(users_agg_df, transactions_date_agg, on='user_id')\n",
    "classification_df = pd.merge(classification_df, transactions_total_agg, on='user_id')\n",
    "classification_df = pd.merge(classification_df, user_transactions, on='user_id')\n",
    "dum = pd.get_dummies(classification_df.continent)\n",
    "classification_df = pd.concat([classification_df, dum], axis=1)\n",
    "classification_df['label'] = classification_df['plan']\n",
    "classification_df = classification_df.drop(columns=['continent', 'plan']).rename(columns={'birth_year': 'age_band'})\n",
    "classification_df"
   ]
  },
  {
   "cell_type": "markdown",
   "metadata": {},
   "source": [
    "**Train/test splitting**"
   ]
  },
  {
   "cell_type": "code",
   "execution_count": 23,
   "metadata": {},
   "outputs": [],
   "source": [
    "from sklearn.model_selection import train_test_split"
   ]
  },
  {
   "cell_type": "code",
   "execution_count": 24,
   "metadata": {},
   "outputs": [],
   "source": [
    "x = classification_df[['age_band', 'user_settings_crypto_unlocked', 'num_contacts', 'brand', 'total_amount', 'n_transactions', 'Central_Europe', 'Central_Europe', 'rest_of_the_world']]\n",
    "y = classification_df['label']"
   ]
  },
  {
   "cell_type": "code",
   "execution_count": 25,
   "metadata": {},
   "outputs": [],
   "source": [
    "x_train, x_test, y_train, y_test = train_test_split(x, y, test_size=0.2, random_state=10)"
   ]
  },
  {
   "cell_type": "markdown",
   "metadata": {},
   "source": [
    "**Scaling**"
   ]
  },
  {
   "cell_type": "code",
   "execution_count": 26,
   "metadata": {},
   "outputs": [],
   "source": [
    "from sklearn.preprocessing import RobustScaler# For outliers"
   ]
  },
  {
   "cell_type": "code",
   "execution_count": 27,
   "metadata": {},
   "outputs": [],
   "source": [
    "scaler = RobustScaler().fit(x_train)"
   ]
  },
  {
   "cell_type": "code",
   "execution_count": 28,
   "metadata": {},
   "outputs": [],
   "source": [
    "x_train_scaled = scaler.transform(x_train)\n",
    "x_test_scaled = scaler.transform(x_test)"
   ]
  },
  {
   "cell_type": "markdown",
   "metadata": {},
   "source": [
    "**Balancing**"
   ]
  },
  {
   "cell_type": "code",
   "execution_count": 29,
   "metadata": {},
   "outputs": [],
   "source": [
    "from imblearn.over_sampling import SMOTE"
   ]
  },
  {
   "cell_type": "code",
   "execution_count": 30,
   "metadata": {},
   "outputs": [
    {
     "name": "stdout",
     "output_type": "stream",
     "text": [
      "Number of users with plan 0 pre-balancing: 10912 and with plan 1: 919\n"
     ]
    }
   ],
   "source": [
    "print(f'Number of users with plan 0 pre-balancing: {len(y_train[y_train == 0])} and with plan 1: {len(y_train[y_train == 1])}')"
   ]
  },
  {
   "cell_type": "code",
   "execution_count": 31,
   "metadata": {},
   "outputs": [],
   "source": [
    "sm = SMOTE(random_state=10)\n",
    "x_train_res, y_train_res = sm.fit_resample(x_train_scaled, y_train)"
   ]
  },
  {
   "cell_type": "code",
   "execution_count": 32,
   "metadata": {},
   "outputs": [
    {
     "name": "stdout",
     "output_type": "stream",
     "text": [
      "Number of users with plan 0 post-balancing: 10912 and with plan 1: 10912\n"
     ]
    }
   ],
   "source": [
    "print(f'Number of users with plan 0 post-balancing: {len(y_train_res[y_train_res == 0])} and with plan 1: {len(y_train_res[y_train_res == 1])}')"
   ]
  },
  {
   "cell_type": "code",
   "execution_count": null,
   "metadata": {},
   "outputs": [],
   "source": []
  },
  {
   "cell_type": "markdown",
   "metadata": {},
   "source": [
    "**Models**"
   ]
  },
  {
   "cell_type": "code",
   "execution_count": null,
   "metadata": {},
   "outputs": [],
   "source": [
    "from ml import MLModels"
   ]
  },
  {
   "cell_type": "code",
   "execution_count": 80,
   "metadata": {},
   "outputs": [],
   "source": [
    "from sklearn.metrics import precision_score, recall_score\n",
    "from sklearn.model_selection import GridSearchCV\n",
    "from sklearn.linear_model import LogisticRegression\n",
    "from sklearn.neighbors import KNeighborsClassifier\n",
    "from sklearn.tree import DecisionTreeClassifier\n",
    "from sklearn.metrics import confusion_matrix, classification_report\n",
    "from sklearn.naive_bayes import GaussianNB,BernoulliNB\n",
    "\n",
    "\n",
    "class MLModels(object):\n",
    "    x_train = None\n",
    "    x_test = None\n",
    "    y_train = None\n",
    "    y_test = None\n",
    "    model = None\n",
    "    parameters = None\n",
    "\n",
    "    def __init__(self, x_train, x_test, y_train, y_test):\n",
    "        self.x_train = x_train\n",
    "        self.x_test = x_test\n",
    "        self.y_train = y_train\n",
    "        self.y_test = y_test\n",
    "\n",
    "    def grid_search(self):\n",
    "        clf_ = GridSearchCV(\n",
    "            self.model, param_grid=self.parameters, n_jobs=-1, scoring='recall'\n",
    "        )\n",
    "        clf_.fit(self.x_train, self.y_train)\n",
    "        best_estimator = clf_.best_estimator_\n",
    "        print(f\"Best estimator recall: {clf_.best_score_}\")\n",
    "        y_pred_ = best_estimator.predict(self.x_test)\n",
    "        print('Precision Score : ' + str(precision_score(self.y_test, y_pred_)))\n",
    "        print(f'Recall Score : {recall_score(self.y_test, y_pred_)}')\n",
    "        print(classification_report(self.y_test, y_pred_))\n",
    "        print(confusion_matrix(self.y_test, y_pred_))\n",
    "\n",
    "    def logistic_regression(self):\n",
    "        self.model = LogisticRegression()\n",
    "        self.parameters = [\n",
    "            {\n",
    "                'solver': ['saga'], 'penalty': ['l1', 'l2'], 'C': [0.001, 0.01, 1, 10, 25],\n",
    "                'max_iter': [10, 20, 50, 100]\n",
    "            },\n",
    "            {\n",
    "                'solver': ['sag', 'lbfgs'], 'penalty': ['l2'], 'C': [0.001, 0.01, 1, 10, 25],\n",
    "                'max_iter': [10, 20, 50, 100]\n",
    "            }\n",
    "        ]\n",
    "\n",
    "    def knn(self):\n",
    "        self.model = KNeighborsClassifier()\n",
    "        self.parameters = [\n",
    "            {\n",
    "                'n_neighbors': [3,9,15,21], \n",
    "                'leaf_size': [0,15,20,25,30],\n",
    "                'p': [1,2],\n",
    "                'algorithm': ['auto'],\n",
    "                'weights':['uniform','distance']\n",
    "            }\n",
    "        ]\n",
    "    def DecisionTree(self):\n",
    "        self.model = DecisionTreeClassifier()\n",
    "        self.parameters = [\n",
    "            {\n",
    "                'min_samples_leaf': [1,2,3,4], \n",
    "                \n",
    "                'max_depth': [1,2,4,6],\n",
    "                'ccp_alpha': [0.005,0.010,0.015,0.020,0.025],\n",
    "                #'criterion': ['gini','entropy']\n",
    "                \n",
    "            }\n",
    "        ]\n",
    "        \n",
    "    def Gaussian(self):\n",
    "        self.model = GaussianNB()\n",
    "        self.parameters = [\n",
    "            {\n",
    "                #'fit_prior': [True,False], \n",
    "                #'alpha': [0,1.0,1.5,3,5] \n",
    "                \n",
    "                \n",
    "            }\n",
    "           \n",
    "        ]\n",
    "\n",
    "        \n",
    "    def Bernouli(self):\n",
    "        self.model = BernoulliNB()\n",
    "        self.parameters = [\n",
    "            {\n",
    "                #'fit_prior': [True,False], \n",
    "                #'alpha': [0,1.0,1.5,3,5] \n",
    "                \n",
    "                \n",
    "            }\n",
    "           \n",
    "        ]\n",
    "   "
   ]
  },
  {
   "cell_type": "code",
   "execution_count": 43,
   "metadata": {},
   "outputs": [
    {
     "name": "stdout",
     "output_type": "stream",
     "text": [
      "Best estimator recall: 0.7010610277819649\n",
      "Precision Score : 0.2537764350453172\n",
      "Recall Score : 0.7601809954751131\n",
      "              precision    recall  f1-score   support\n",
      "\n",
      "           0       0.98      0.82      0.89      2737\n",
      "           1       0.25      0.76      0.38       221\n",
      "\n",
      "    accuracy                           0.82      2958\n",
      "   macro avg       0.62      0.79      0.64      2958\n",
      "weighted avg       0.92      0.82      0.85      2958\n",
      "\n",
      "[[2243  494]\n",
      " [  53  168]]\n"
     ]
    }
   ],
   "source": [
    "lr_model = MLModels(x_train_res, x_test_scaled, y_train_res, y_test)\n",
    "lr_model.logistic_regression()\n",
    "lr_model.grid_search()"
   ]
  },
  {
   "cell_type": "code",
   "execution_count": 63,
   "metadata": {},
   "outputs": [
    {
     "name": "stdout",
     "output_type": "stream",
     "text": [
      "Best estimator recall: 0.9568373310469662\n",
      "Precision Score : 0.22336065573770492\n",
      "Recall Score : 0.49321266968325794\n",
      "              precision    recall  f1-score   support\n",
      "\n",
      "           0       0.95      0.86      0.91      2737\n",
      "           1       0.22      0.49      0.31       221\n",
      "\n",
      "    accuracy                           0.83      2958\n",
      "   macro avg       0.59      0.68      0.61      2958\n",
      "weighted avg       0.90      0.83      0.86      2958\n",
      "\n",
      "[[2358  379]\n",
      " [ 112  109]]\n"
     ]
    }
   ],
   "source": [
    "_neigh = MLModels(x_train_res, x_test_scaled, y_train_res, y_test)\n",
    "_neigh.knn()\n",
    "_neigh.grid_search()"
   ]
  },
  {
   "cell_type": "code",
   "execution_count": 62,
   "metadata": {},
   "outputs": [
    {
     "name": "stdout",
     "output_type": "stream",
     "text": [
      "Best estimator recall: 0.8453069779686629\n",
      "Precision Score : 0.16476774758983348\n",
      "Recall Score : 0.8506787330316742\n",
      "              precision    recall  f1-score   support\n",
      "\n",
      "           0       0.98      0.65      0.78      2737\n",
      "           1       0.16      0.85      0.28       221\n",
      "\n",
      "    accuracy                           0.67      2958\n",
      "   macro avg       0.57      0.75      0.53      2958\n",
      "weighted avg       0.92      0.67      0.75      2958\n",
      "\n",
      "[[1784  953]\n",
      " [  33  188]]\n"
     ]
    }
   ],
   "source": [
    "tree = MLModels(x_train_res, x_test_scaled, y_train_res, y_test)\n",
    "tree.DecisionTree()\n",
    "tree.grid_search()"
   ]
  },
  {
   "cell_type": "code",
   "execution_count": 81,
   "metadata": {},
   "outputs": [
    {
     "name": "stdout",
     "output_type": "stream",
     "text": [
      "Best estimator recall: 0.4173381680706635\n",
      "Precision Score : 0.390625\n",
      "Recall Score : 0.45248868778280543\n",
      "              precision    recall  f1-score   support\n",
      "\n",
      "           0       0.96      0.94      0.95      2737\n",
      "           1       0.39      0.45      0.42       221\n",
      "\n",
      "    accuracy                           0.91      2958\n",
      "   macro avg       0.67      0.70      0.68      2958\n",
      "weighted avg       0.91      0.91      0.91      2958\n",
      "\n",
      "[[2581  156]\n",
      " [ 121  100]]\n"
     ]
    }
   ],
   "source": [
    "Gaussian = MLModels(x_train_res, x_test_scaled, y_train_res, y_test)\n",
    "Gaussian.Gaussian()\n",
    "Gaussian.grid_search()\n"
   ]
  },
  {
   "cell_type": "code",
   "execution_count": 82,
   "metadata": {},
   "outputs": [
    {
     "name": "stdout",
     "output_type": "stream",
     "text": [
      "Best estimator recall: 0.8165312495145178\n",
      "Precision Score : 0.1589041095890411\n",
      "Recall Score : 0.7873303167420814\n",
      "              precision    recall  f1-score   support\n",
      "\n",
      "           0       0.97      0.66      0.79      2737\n",
      "           1       0.16      0.79      0.26       221\n",
      "\n",
      "    accuracy                           0.67      2958\n",
      "   macro avg       0.57      0.73      0.53      2958\n",
      "weighted avg       0.91      0.67      0.75      2958\n",
      "\n",
      "[[1816  921]\n",
      " [  47  174]]\n"
     ]
    }
   ],
   "source": [
    "Bernouli = MLModels(x_train_res, x_test_scaled, y_train_res, y_test)\n",
    "Bernouli.Bernouli()\n",
    "Bernouli.grid_search()"
   ]
  },
  {
   "cell_type": "code",
   "execution_count": null,
   "metadata": {},
   "outputs": [],
   "source": []
  },
  {
   "cell_type": "markdown",
   "metadata": {
    "pycharm": {
     "name": "#%% md\n"
    }
   },
   "source": [
    "**Tests and raw code**"
   ]
  },
  {
   "cell_type": "code",
   "execution_count": null,
   "metadata": {
    "collapsed": false,
    "jupyter": {
     "outputs_hidden": false
    },
    "pycharm": {
     "name": "#%%\n"
    }
   },
   "outputs": [],
   "source": [
    "len(data[(data.transactions_state == 2) & (data.direction==\"INBOUND\")])"
   ]
  },
  {
   "cell_type": "code",
   "execution_count": null,
   "metadata": {},
   "outputs": [],
   "source": [
    "pd.crosstab(index=data['transactions_type'],columns=data['transactions_state'])"
   ]
  },
  {
   "cell_type": "code",
   "execution_count": null,
   "metadata": {},
   "outputs": [],
   "source": [
    "pd.crosstab(index=data['transactions_type'],columns=data['direction'])"
   ]
  },
  {
   "cell_type": "code",
   "execution_count": null,
   "metadata": {},
   "outputs": [],
   "source": [
    "pd.crosstab(index=data['direction'],columns=data['transactions_state'])"
   ]
  },
  {
   "cell_type": "code",
   "execution_count": null,
   "metadata": {},
   "outputs": [],
   "source": [
    "data[(data.user_id == \"user_7\") & (data.transactions_state == 2) & (data.amount_usd == 8.51) & (data.direction == \"INBOUND\")]"
   ]
  },
  {
   "cell_type": "code",
   "execution_count": null,
   "metadata": {},
   "outputs": [],
   "source": [
    "data[data[\"user_id\"] == \"user_12038\"].sort_values(by='transaction_created_date', ascending=True)"
   ]
  },
  {
   "cell_type": "code",
   "execution_count": null,
   "metadata": {},
   "outputs": [],
   "source": [
    "pd.crosstab(index=data['transactions_type'],columns=data['ea_cardholderpresence'])"
   ]
  },
  {
   "cell_type": "code",
   "execution_count": null,
   "metadata": {},
   "outputs": [],
   "source": [
    "data['num_contacts'].describe()"
   ]
  },
  {
   "cell_type": "code",
   "execution_count": null,
   "metadata": {},
   "outputs": [],
   "source": [
    "data['ea_cardholderpresence'].value_counts()"
   ]
  },
  {
   "cell_type": "code",
   "execution_count": null,
   "metadata": {},
   "outputs": [],
   "source": []
  },
  {
   "cell_type": "code",
   "execution_count": null,
   "metadata": {},
   "outputs": [],
   "source": []
  },
  {
   "cell_type": "code",
   "execution_count": null,
   "metadata": {},
   "outputs": [],
   "source": []
  },
  {
   "cell_type": "code",
   "execution_count": null,
   "metadata": {},
   "outputs": [],
   "source": []
  }
 ],
 "metadata": {
  "kernelspec": {
   "display_name": "Python 3",
   "language": "python",
   "name": "python3"
  },
  "language_info": {
   "codemirror_mode": {
    "name": "ipython",
    "version": 3
   },
   "file_extension": ".py",
   "mimetype": "text/x-python",
   "name": "python",
   "nbconvert_exporter": "python",
   "pygments_lexer": "ipython3",
   "version": "3.8.2"
  }
 },
 "nbformat": 4,
 "nbformat_minor": 4
}
