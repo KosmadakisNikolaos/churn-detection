{
 "cells": [
  {
   "cell_type": "code",
   "execution_count": null,
   "outputs": [],
   "source": [
    "import pandas as pd\n",
    "import numpy as np\n",
    "import seaborn as sns\n",
    "import matplotlib.pyplot as plt\n",
    "import datetime\n",
    "from dateutil.relativedelta import relativedelta\n",
    "from datetime import date\n",
    "\n",
    "%matplotlib inline"
   ],
   "metadata": {
    "collapsed": false,
    "pycharm": {
     "name": "#%%\n"
    }
   }
  },
  {
   "cell_type": "code",
   "execution_count": null,
   "outputs": [],
   "source": [
    "df = pd.read_csv(\"test/transactions_test.csv\")\n",
    "df2 = pd.read_csv(\"test/users_test.csv\")\n",
    "df3 = pd.read_csv(\"test/devices_test.csv\")\n",
    "df4 = pd.merge(df2, df3[df3.brand != \"Unknown\"], on='user_id')\n",
    "data = pd.merge(df4, df, on='user_id')"
   ],
   "metadata": {
    "collapsed": false,
    "pycharm": {
     "name": "#%%\n"
    }
   }
  },
  {
   "cell_type": "code",
   "execution_count": null,
   "outputs": [],
   "source": [
    "data = data.rename(columns={\"created_date_x\": \"user_created_date\", \"created_date_y\": \"transaction_created_date\", \"country\": \"user_country\"})"
   ],
   "metadata": {
    "collapsed": false,
    "pycharm": {
     "name": "#%%\n"
    }
   }
  },
  {
   "cell_type": "code",
   "execution_count": null,
   "outputs": [],
   "source": [
    "data = data.drop(['city', 'attributes_notifications_marketing_push', 'attributes_notifications_marketing_email', 'num_successful_referrals', 'ea_merchant_mcc', 'ea_merchant_city', 'ea_merchant_country', 'num_referrals'], axis=1)"
   ],
   "metadata": {
    "collapsed": false,
    "pycharm": {
     "name": "#%%\n"
    }
   }
  },
  {
   "cell_type": "code",
   "execution_count": null,
   "outputs": [],
   "source": [
    "currency_ = {'FAILED': 0, 'DECLINED': 0, 'COMPLETED': 1, 'REVERTED': 2, 'PENDING': 0, 'CANCELLED': 0}\n",
    "data['transactions_state'] = data['transactions_state'].map(currency_)"
   ],
   "metadata": {
    "collapsed": false,
    "pycharm": {
     "name": "#%%\n"
    }
   }
  },
  {
   "cell_type": "code",
   "execution_count": null,
   "outputs": [],
   "source": [
    "brands = {\"Android\": 0,\"Apple\": 1}\n",
    "data['brand'] = data['brand'].map(brands)"
   ],
   "metadata": {
    "collapsed": false,
    "pycharm": {
     "name": "#%%\n"
    }
   }
  },
  {
   "cell_type": "code",
   "execution_count": null,
   "outputs": [],
   "source": [
    "continents_ = {'ES':'SWEU', 'LT':'EEU', 'IE':'WEU', 'GB':'WEU', 'MT':'SWEU', 'FR':'SWEU', 'RO':'SWEU', 'PL':'EEU', 'AT':'CEU', 'IT':'SWEU', 'SI':'CEU', 'CZ':'CEU', 'BE':'WEU', 'BG':'SWEU', 'GI':'SWEU', 'CH':'AS', 'GG':'SWEU', 'CY':'SWEU', 'DE':'CEU', 'SK':'CEU', 'GR':'SEU', 'DK':'NEU', 'PT':'SWEU', 'LU':'NEU', 'HR':'SWEU', 'NL':'NEU', 'SE':'NEU', 'LV':'EEU', 'IM':'NEU', 'FI':'NEU', 'EE':'EEU', 'JE':'SWEU', 'HU':'CEU', 'NO':'NEU', 'RE':'AF', 'IS':'NEU', 'GP':'NA', 'AU':'OC', 'LI':'EEU', 'MQ':'NA', 'GF':'LA'}\n",
    "data['user_country'] = data['user_country'].map(continents_)\n",
    "\n",
    "\n",
    "#Appending new Continents\n",
    "new_continents_ = {'OC':'rest_of_the_world','NA':'rest_of_the_world','AF':'rest_of_the_world','SEU':'rest_of_the_world','AS':'rest_of_the_world',\n",
    "               'SWEU':'Central_Europe','CEU':'Central_Europe','NEU':'Central_Europe','EEU':'Central_Europe',\n",
    "                 'WEU':'Western_Europe', 'LA':'rest_of_the_world'}\n",
    "\n",
    "data['user_country'] = data['user_country'].map(new_continents_)\n",
    "\n",
    "\n",
    "# Renaming Column\n",
    "data = data.rename(columns={\"user_country\": \"continent\"})"
   ],
   "metadata": {
    "collapsed": false,
    "pycharm": {
     "name": "#%%\n"
    }
   }
  },
  {
   "cell_type": "code",
   "execution_count": null,
   "outputs": [],
   "source": [
    "data = data[(data.transactions_state == 1) | (data.transactions_state == 2)]"
   ],
   "metadata": {
    "collapsed": false,
    "pycharm": {
     "name": "#%%\n"
    }
   }
  },
  {
   "cell_type": "code",
   "execution_count": null,
   "outputs": [],
   "source": [
    "carrier_count = data['continent'].value_counts()\n",
    "carrier_count.plot(figsize=(10,10))\n",
    "sns.set(style=\"darkgrid\")\n",
    "sns.barplot(carrier_count.index, carrier_count.values, alpha=0.9)\n",
    "\n",
    "plt.title('Transactions Per Continent',fontsize=19)\n",
    "plt.ylabel('Number of transactions', fontsize=19)\n",
    "plt.xticks(fontsize=14)\n",
    "\n",
    "plt.show()"
   ],
   "metadata": {
    "collapsed": false,
    "pycharm": {
     "name": "#%%\n"
    }
   }
  },
  {
   "cell_type": "code",
   "execution_count": null,
   "outputs": [],
   "source": [
    "def age_bands(year):\n",
    "    year = 2020 - year\n",
    "    if year < 25:\n",
    "        return 0\n",
    "    elif year < 35:\n",
    "        return 1\n",
    "    elif year < 45:\n",
    "        return 2\n",
    "    elif year < 55:\n",
    "        return 3\n",
    "    elif year < 65:\n",
    "        return 4\n",
    "    return 5"
   ],
   "metadata": {
    "collapsed": false,
    "pycharm": {
     "name": "#%%\n"
    }
   }
  },
  {
   "cell_type": "code",
   "execution_count": null,
   "outputs": [],
   "source": [
    "# Demographics\n",
    "users_agg_df = data.groupby(['user_id']).agg({'birth_year': 'first', 'continent': 'first', 'user_created_date': 'first', 'user_settings_crypto_unlocked': 'first', 'num_contacts': 'first', 'brand': 'first'}).reset_index()\n",
    "users_agg_df[\"birth_year\"] = users_agg_df[\"birth_year\"].apply(lambda x: age_bands(x))\n",
    "users_agg_df"
   ],
   "metadata": {
    "collapsed": false,
    "pycharm": {
     "name": "#%%\n"
    }
   }
  },
  {
   "cell_type": "code",
   "execution_count": null,
   "outputs": [],
   "source": [
    "first_transactions_date_agg = data.groupby([\"user_id\"]).agg({'transaction_created_date': 'min'}).reset_index().rename(columns={\"transaction_created_date\": \"first_transaction_date\"})\n",
    "last_transactions_date_agg = data.groupby([\"user_id\"]).agg({'transaction_created_date': 'max'}).reset_index().rename(columns={\"transaction_created_date\": \"last_transaction_date\"})\n",
    "transactions_date_agg = pd.merge(first_transactions_date_agg, last_transactions_date_agg, on=\"user_id\")\n",
    "transactions_date_agg"
   ],
   "metadata": {
    "collapsed": false,
    "pycharm": {
     "name": "#%%\n"
    }
   }
  },
  {
   "cell_type": "code",
   "execution_count": null,
   "outputs": [],
   "source": [
    "user_transactions = data.groupby([\"user_id\"]).agg({'transaction_created_date': 'count'}).reset_index().rename(columns={\"transaction_created_date\": \"n_transactions\"})\n",
    "user_transactions"
   ],
   "metadata": {
    "collapsed": false,
    "pycharm": {
     "name": "#%%\n"
    }
   }
  },
  {
   "cell_type": "code",
   "execution_count": null,
   "outputs": [],
   "source": [
    "transactions_total_agg = data[data.transactions_state == 1].groupby([\"user_id\"]).agg({'amount_usd': 'sum'}).reset_index()\n",
    "transactions_total_agg = transactions_total_agg.rename(columns={\"amount_usd\": \"amount_total\"})\n",
    "transactions_total_rev = data[data.transactions_state == 2].groupby([\"user_id\"]).agg({'amount_usd': 'sum'}).reset_index().rename(columns={'amount_usd': 'amount_reverted'})\n",
    "\n",
    "\n",
    "transactions_total_agg = pd.merge(transactions_total_agg, transactions_total_rev, on=\"user_id\", how=\"left\").fillna(0.0)#converting NaN to 0\n",
    "\n",
    "transactions_total_agg[\"total_amount\"] = transactions_total_agg[\"amount_total\"] - transactions_total_agg[\"amount_reverted\"]\n",
    "transactions_total_agg = transactions_total_agg[[\"user_id\", \"total_amount\"]]\n",
    "transactions_total_agg"
   ],
   "metadata": {
    "collapsed": false,
    "pycharm": {
     "name": "#%%\n"
    }
   }
  },
  {
   "cell_type": "code",
   "execution_count": null,
   "outputs": [],
   "source": [
    "classification_df = pd.merge(users_agg_df, transactions_date_agg, on='user_id')\n",
    "classification_df = pd.merge(classification_df, transactions_total_agg, on='user_id')\n",
    "classification_df = pd.merge(classification_df, user_transactions, on='user_id')\n",
    "classification_df.head()"
   ],
   "metadata": {
    "collapsed": false,
    "pycharm": {
     "name": "#%%\n"
    }
   }
  },
  {
   "cell_type": "code",
   "execution_count": null,
   "outputs": [],
   "source": [
    "classification_df['first_transaction_date'] = pd.to_datetime(classification_df['first_transaction_date'])\n",
    "classification_df['last_transaction_date'] = pd.to_datetime(classification_df['last_transaction_date'])\n",
    "\n",
    "delta = classification_df['last_transaction_date'] - classification_df['first_transaction_date']\n",
    "classification_df['Days_Since_First_Transaction'] = delta.dt.days.astype(int)"
   ],
   "metadata": {
    "collapsed": false,
    "pycharm": {
     "name": "#%%\n"
    }
   }
  },
  {
   "cell_type": "code",
   "execution_count": null,
   "outputs": [],
   "source": [
    "last_day = max(classification_df.last_transaction_date)"
   ],
   "metadata": {
    "collapsed": false,
    "pycharm": {
     "name": "#%%\n"
    }
   }
  },
  {
   "cell_type": "code",
   "execution_count": null,
   "outputs": [],
   "source": [
    "delta = last_day - classification_df['last_transaction_date']\n",
    "classification_df['Days_Since_Last_Transaction'] = delta.dt.days.astype(int)"
   ],
   "metadata": {
    "collapsed": false,
    "pycharm": {
     "name": "#%%\n"
    }
   }
  },
  {
   "cell_type": "code",
   "execution_count": null,
   "outputs": [],
   "source": [
    "classification_df.head()"
   ],
   "metadata": {
    "collapsed": false,
    "pycharm": {
     "name": "#%%\n"
    }
   }
  },
  {
   "cell_type": "code",
   "execution_count": null,
   "outputs": [],
   "source": [
    "classification_df['user_created_date'] = pd.to_datetime(classification_df['user_created_date'])\n",
    "\n",
    "delta = classification_df['last_transaction_date']-classification_df['user_created_date']\n",
    "classification_df['Days_User_is_active'] = delta.dt.days.astype(int)"
   ],
   "metadata": {
    "collapsed": false,
    "pycharm": {
     "name": "#%%\n"
    }
   }
  },
  {
   "cell_type": "code",
   "execution_count": null,
   "outputs": [],
   "source": [
    "classification_df.dtypes"
   ],
   "metadata": {
    "collapsed": false,
    "pycharm": {
     "name": "#%%\n"
    }
   }
  },
  {
   "cell_type": "code",
   "execution_count": null,
   "outputs": [],
   "source": [
    "dum = pd.get_dummies(classification_df.continent)\n",
    "classification_df = pd.concat([classification_df, dum], axis=1)\n",
    "classification_df = classification_df.drop(columns=['continent']).rename(columns={'birth_year': 'age_band'})\n",
    "classification_df.head()"
   ],
   "metadata": {
    "collapsed": false,
    "pycharm": {
     "name": "#%%\n"
    }
   }
  },
  {
   "cell_type": "code",
   "execution_count": null,
   "outputs": [],
   "source": [
    "import pickle"
   ],
   "metadata": {
    "collapsed": false,
    "pycharm": {
     "name": "#%%\n"
    }
   }
  },
  {
   "cell_type": "code",
   "execution_count": null,
   "outputs": [],
   "source": [
    "x = classification_df[['total_amount', 'n_transactions', 'age_band', 'user_settings_crypto_unlocked', 'Days_Since_First_Transaction', 'Days_Since_Last_Transaction', 'Days_User_is_active', 'Central_Europe', 'Western_Europe', 'rest_of_the_world']]\n",
    "users = classification_df['user_id']"
   ],
   "metadata": {
    "collapsed": false,
    "pycharm": {
     "name": "#%%\n"
    }
   }
  },
  {
   "cell_type": "code",
   "execution_count": null,
   "outputs": [],
   "source": [
    "scaler = pickle.load(open('scaler.pkl', 'rb'))"
   ],
   "metadata": {
    "collapsed": false,
    "pycharm": {
     "name": "#%%\n"
    }
   }
  },
  {
   "cell_type": "code",
   "execution_count": null,
   "outputs": [],
   "source": [
    "x_scaled = scaler.transform(x)"
   ],
   "metadata": {
    "collapsed": false,
    "pycharm": {
     "name": "#%%\n"
    }
   }
  },
  {
   "cell_type": "code",
   "execution_count": null,
   "outputs": [],
   "source": [
    "x_scaled"
   ],
   "metadata": {
    "collapsed": false,
    "pycharm": {
     "name": "#%%\n"
    }
   }
  },
  {
   "cell_type": "code",
   "execution_count": null,
   "outputs": [],
   "source": [
    "model = pickle.load(open('rf.pkl', 'rb'))"
   ],
   "metadata": {
    "collapsed": false,
    "pycharm": {
     "name": "#%%\n"
    }
   }
  },
  {
   "cell_type": "code",
   "execution_count": null,
   "outputs": [],
   "source": [
    "y_predictions = model.predict(x_scaled)\n",
    "y_predictions"
   ],
   "metadata": {
    "collapsed": false,
    "pycharm": {
     "name": "#%%\n"
    }
   }
  },
  {
   "cell_type": "code",
   "execution_count": null,
   "outputs": [],
   "source": [
    "unique_elements, counts_elements = np.unique(y_predictions, return_counts=True)\n",
    "print(\"Frequency of unique values of the said array:\")\n",
    "print(np.asarray((unique_elements, counts_elements)))"
   ],
   "metadata": {
    "collapsed": false,
    "pycharm": {
     "name": "#%%\n"
    }
   }
  },
  {
   "cell_type": "code",
   "execution_count": null,
   "outputs": [],
   "source": [
    "model1 = pickle.load(open('gnb.pkl', 'rb'))\n",
    "y_predictions1 = model1.predict(x_scaled)\n",
    "unique_elements1, counts_elements1 = np.unique(y_predictions1, return_counts=True)\n",
    "print(\"Frequency of unique values of the said array:\")\n",
    "print(np.asarray((unique_elements1, counts_elements1)))"
   ],
   "metadata": {
    "collapsed": false,
    "pycharm": {
     "name": "#%%\n"
    }
   }
  },
  {
   "cell_type": "code",
   "execution_count": null,
   "outputs": [],
   "source": [
    "df_pred = pd.DataFrame(data={'user_id':users, 'prediction':y_predictions})\n",
    "df_pred.to_csv('predictions/test_preds.csv', index=False)"
   ],
   "metadata": {
    "collapsed": false,
    "pycharm": {
     "name": "#%%\n"
    }
   }
  },
  {
   "cell_type": "code",
   "execution_count": null,
   "outputs": [],
   "source": [
    "df_pred1 = pd.DataFrame(data={'user_id':users, 'prediction':y_predictions1})\n",
    "df_pred1.to_csv('predictions/test_preds1.csv', index=False)"
   ],
   "metadata": {
    "collapsed": false,
    "pycharm": {
     "name": "#%%\n"
    }
   }
  }
 ],
 "metadata": {
  "kernelspec": {
   "display_name": "Python 3",
   "language": "python",
   "name": "python3"
  },
  "language_info": {
   "codemirror_mode": {
    "name": "ipython",
    "version": 3
   },
   "file_extension": ".py",
   "mimetype": "text/x-python",
   "name": "python",
   "nbconvert_exporter": "python",
   "pygments_lexer": "ipython3",
   "version": "3.7.7"
  }
 },
 "nbformat": 4,
 "nbformat_minor": 4
}